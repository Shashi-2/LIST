{
 "cells": [
  {
   "cell_type": "code",
   "execution_count": 2,
   "id": "ce61d795",
   "metadata": {},
   "outputs": [
    {
     "name": "stdout",
     "output_type": "stream",
     "text": [
      "<class 'list'>\n"
     ]
    }
   ],
   "source": [
    "x=[2,\"5\",4,3]\n",
    "print(type(x))"
   ]
  },
  {
   "cell_type": "code",
   "execution_count": 4,
   "id": "0266e17e",
   "metadata": {},
   "outputs": [
    {
     "name": "stdout",
     "output_type": "stream",
     "text": [
      "5\n"
     ]
    }
   ],
   "source": [
    "print(x[1])"
   ]
  },
  {
   "cell_type": "code",
   "execution_count": 6,
   "id": "045ba45b",
   "metadata": {},
   "outputs": [
    {
     "name": "stdout",
     "output_type": "stream",
     "text": [
      "2\n"
     ]
    }
   ],
   "source": [
    "print(x[0])"
   ]
  },
  {
   "cell_type": "code",
   "execution_count": 8,
   "id": "57d95ced",
   "metadata": {},
   "outputs": [
    {
     "name": "stdout",
     "output_type": "stream",
     "text": [
      "<class 'str'>\n"
     ]
    }
   ],
   "source": [
    "print(type(x[1]))"
   ]
  },
  {
   "cell_type": "code",
   "execution_count": 10,
   "id": "078a7589",
   "metadata": {},
   "outputs": [
    {
     "ename": "IndexError",
     "evalue": "list index out of range",
     "output_type": "error",
     "traceback": [
      "\u001b[1;31m---------------------------------------------------------------------------\u001b[0m",
      "\u001b[1;31mIndexError\u001b[0m                                Traceback (most recent call last)",
      "\u001b[1;32m~\\AppData\\Local\\Temp/ipykernel_13268/1050662472.py\u001b[0m in \u001b[0;36m<module>\u001b[1;34m\u001b[0m\n\u001b[1;32m----> 1\u001b[1;33m \u001b[0mprint\u001b[0m\u001b[1;33m(\u001b[0m\u001b[0mx\u001b[0m\u001b[1;33m[\u001b[0m\u001b[1;36m6\u001b[0m\u001b[1;33m]\u001b[0m\u001b[1;33m)\u001b[0m\u001b[1;33m\u001b[0m\u001b[1;33m\u001b[0m\u001b[0m\n\u001b[0m",
      "\u001b[1;31mIndexError\u001b[0m: list index out of range"
     ]
    }
   ],
   "source": [
    "print(x[6])  #out of range"
   ]
  },
  {
   "cell_type": "code",
   "execution_count": 11,
   "id": "6f6aed9c",
   "metadata": {},
   "outputs": [
    {
     "ename": "SyntaxError",
     "evalue": "invalid syntax (Temp/ipykernel_13268/3219570186.py, line 1)",
     "output_type": "error",
     "traceback": [
      "\u001b[1;36m  File \u001b[1;32m\"C:\\Users\\jss\\AppData\\Local\\Temp/ipykernel_13268/3219570186.py\"\u001b[1;36m, line \u001b[1;32m1\u001b[0m\n\u001b[1;33m    print(x[])\u001b[0m\n\u001b[1;37m            ^\u001b[0m\n\u001b[1;31mSyntaxError\u001b[0m\u001b[1;31m:\u001b[0m invalid syntax\n"
     ]
    }
   ],
   "source": [
    "print(x[])   #invalid"
   ]
  },
  {
   "cell_type": "code",
   "execution_count": 13,
   "id": "1e3f1fc7",
   "metadata": {},
   "outputs": [
    {
     "name": "stdout",
     "output_type": "stream",
     "text": [
      "[10, 80, 30, 40]\n"
     ]
    }
   ],
   "source": [
    "t=[10,80,30,40]\n",
    "print(t)           #list are mutable(changeble) object"
   ]
  },
  {
   "cell_type": "code",
   "execution_count": 14,
   "id": "dcf5e582",
   "metadata": {},
   "outputs": [
    {
     "name": "stdout",
     "output_type": "stream",
     "text": [
      "[10, 20, 30, 40]\n"
     ]
    }
   ],
   "source": [
    "t[1]=20\n",
    "print(t)"
   ]
  },
  {
   "cell_type": "code",
   "execution_count": 15,
   "id": "97c188b6",
   "metadata": {},
   "outputs": [
    {
     "name": "stdout",
     "output_type": "stream",
     "text": [
      "[10, 20, 30]\n"
     ]
    }
   ],
   "source": [
    "del t[3]  # to delete element\n",
    "print(t)"
   ]
  },
  {
   "cell_type": "code",
   "execution_count": 17,
   "id": "ea4c1ee2",
   "metadata": {},
   "outputs": [
    {
     "name": "stdout",
     "output_type": "stream",
     "text": [
      "6\n"
     ]
    }
   ],
   "source": [
    "# -5 -4 -3 -2 -1\n",
    "i=[1 ,2 ,5 ,9 ,6]\n",
    "#  0  1  2  3  4\n",
    "print(i[-1])"
   ]
  },
  {
   "cell_type": "code",
   "execution_count": 18,
   "id": "1951b9cd",
   "metadata": {},
   "outputs": [
    {
     "name": "stdout",
     "output_type": "stream",
     "text": [
      "1\n"
     ]
    }
   ],
   "source": [
    "print(i[-5])"
   ]
  },
  {
   "cell_type": "code",
   "execution_count": 19,
   "id": "4b4759ee",
   "metadata": {},
   "outputs": [],
   "source": [
    "####  in operator"
   ]
  },
  {
   "cell_type": "code",
   "execution_count": 21,
   "id": "18431722",
   "metadata": {},
   "outputs": [
    {
     "name": "stdout",
     "output_type": "stream",
     "text": [
      "True\n"
     ]
    }
   ],
   "source": [
    "k=[1,\"shashi\",\"last\"]\n",
    "print(1 in k)"
   ]
  },
  {
   "cell_type": "code",
   "execution_count": 22,
   "id": "38175a22",
   "metadata": {},
   "outputs": [
    {
     "name": "stdout",
     "output_type": "stream",
     "text": [
      "True\n"
     ]
    }
   ],
   "source": [
    "print(\"shekhar\" not in k)"
   ]
  },
  {
   "cell_type": "code",
   "execution_count": 23,
   "id": "746f33ae",
   "metadata": {},
   "outputs": [
    {
     "name": "stdout",
     "output_type": "stream",
     "text": [
      "True\n"
     ]
    }
   ],
   "source": [
    "print(\"last\" in k)"
   ]
  },
  {
   "cell_type": "code",
   "execution_count": 24,
   "id": "2005b663",
   "metadata": {},
   "outputs": [
    {
     "name": "stdout",
     "output_type": "stream",
     "text": [
      "False\n"
     ]
    }
   ],
   "source": [
    "print(\"shashi\" not in k)"
   ]
  },
  {
   "cell_type": "code",
   "execution_count": 25,
   "id": "817901b8",
   "metadata": {},
   "outputs": [],
   "source": [
    "##### list slicing"
   ]
  },
  {
   "cell_type": "code",
   "execution_count": 26,
   "id": "d694482d",
   "metadata": {},
   "outputs": [
    {
     "name": "stdout",
     "output_type": "stream",
     "text": [
      "4444\n"
     ]
    }
   ],
   "source": [
    "a=[2,22,222,2222,3,33,333,3333,4,44,444,4444]\n",
    "print(a[-1])"
   ]
  },
  {
   "cell_type": "code",
   "execution_count": 27,
   "id": "d31b331f",
   "metadata": {},
   "outputs": [
    {
     "name": "stdout",
     "output_type": "stream",
     "text": [
      "[2, 22, 222, 2222]\n"
     ]
    }
   ],
   "source": [
    "   #start:end{last-1}  \n",
    "print(a[0:4])"
   ]
  },
  {
   "cell_type": "code",
   "execution_count": 28,
   "id": "a7b89412",
   "metadata": {},
   "outputs": [
    {
     "name": "stdout",
     "output_type": "stream",
     "text": [
      "[3, 33, 333, 3333, 4, 44, 444, 4444]\n"
     ]
    }
   ],
   "source": [
    "print(a[4: ])"
   ]
  },
  {
   "cell_type": "code",
   "execution_count": 29,
   "id": "77b5c6f0",
   "metadata": {},
   "outputs": [
    {
     "name": "stdout",
     "output_type": "stream",
     "text": [
      "[2, 22, 222, 2222, 3, 33]\n"
     ]
    }
   ],
   "source": [
    "print(a[:6])"
   ]
  },
  {
   "cell_type": "code",
   "execution_count": 30,
   "id": "e7eacd57",
   "metadata": {},
   "outputs": [
    {
     "name": "stdout",
     "output_type": "stream",
     "text": [
      "[]\n"
     ]
    }
   ],
   "source": [
    "print(a[2:1])  #from left to right working so not possible"
   ]
  },
  {
   "cell_type": "code",
   "execution_count": 31,
   "id": "fed2a127",
   "metadata": {},
   "outputs": [
    {
     "name": "stdout",
     "output_type": "stream",
     "text": [
      "[22, 2222, 33]\n"
     ]
    }
   ],
   "source": [
    "            #steps \n",
    "print(a[1:7:2])     #skip 2 value"
   ]
  },
  {
   "cell_type": "code",
   "execution_count": 32,
   "id": "2d11c5ba",
   "metadata": {},
   "outputs": [
    {
     "name": "stdout",
     "output_type": "stream",
     "text": [
      "[4444, 444, 44, 4, 3333, 333, 33, 3, 2222, 222, 22, 2]\n"
     ]
    }
   ],
   "source": [
    "print(a[::-1]) #reverse"
   ]
  },
  {
   "cell_type": "code",
   "execution_count": 5,
   "id": "d57febc8",
   "metadata": {},
   "outputs": [],
   "source": [
    "a=[2,22,222,2222,3,33,333,3333,4,44,444,4444]"
   ]
  },
  {
   "cell_type": "code",
   "execution_count": 7,
   "id": "334adf1c",
   "metadata": {},
   "outputs": [
    {
     "name": "stdout",
     "output_type": "stream",
     "text": [
      "[33, 3, 2222]\n"
     ]
    }
   ],
   "source": [
    "print(a[5:2:-1])"
   ]
  },
  {
   "cell_type": "code",
   "execution_count": 8,
   "id": "9612e28e",
   "metadata": {},
   "outputs": [
    {
     "name": "stdout",
     "output_type": "stream",
     "text": [
      "[]\n"
     ]
    }
   ],
   "source": [
    "print(a[2:6:-1])"
   ]
  },
  {
   "cell_type": "code",
   "execution_count": 9,
   "id": "b2cab33d",
   "metadata": {},
   "outputs": [
    {
     "name": "stdout",
     "output_type": "stream",
     "text": [
      "[4, 3333, 333, 33, 3]\n"
     ]
    }
   ],
   "source": [
    "print(a[8:3:-1])"
   ]
  },
  {
   "cell_type": "code",
   "execution_count": 10,
   "id": "18f1a6c3",
   "metadata": {},
   "outputs": [
    {
     "name": "stdout",
     "output_type": "stream",
     "text": [
      "[4, 333, 3]\n"
     ]
    }
   ],
   "source": [
    "print(a[8:3:-2])"
   ]
  },
  {
   "cell_type": "code",
   "execution_count": 11,
   "id": "ff5bb61c",
   "metadata": {},
   "outputs": [
    {
     "name": "stdout",
     "output_type": "stream",
     "text": [
      "[22, 222, 2222, 3, 33, 333, 3333, 4, 44, 444]\n"
     ]
    }
   ],
   "source": [
    "print(a[1:-1])"
   ]
  },
  {
   "cell_type": "code",
   "execution_count": 12,
   "id": "bb1f9b22",
   "metadata": {},
   "outputs": [],
   "source": [
    "#### LIST FUNCTION       ##BULIT IN FUCTION"
   ]
  },
  {
   "cell_type": "code",
   "execution_count": 13,
   "id": "d7d7ede0",
   "metadata": {},
   "outputs": [
    {
     "name": "stdout",
     "output_type": "stream",
     "text": [
      "246\n"
     ]
    }
   ],
   "source": [
    "q=[5,15,42,85,99]\n",
    "print(sum(q))    #SUM"
   ]
  },
  {
   "cell_type": "code",
   "execution_count": 14,
   "id": "ae06f5b8",
   "metadata": {},
   "outputs": [
    {
     "name": "stdout",
     "output_type": "stream",
     "text": [
      "5\n"
     ]
    }
   ],
   "source": [
    "print(len(q))    #lenth"
   ]
  },
  {
   "cell_type": "code",
   "execution_count": 15,
   "id": "4795fdc7",
   "metadata": {},
   "outputs": [
    {
     "name": "stdout",
     "output_type": "stream",
     "text": [
      "99\n"
     ]
    }
   ],
   "source": [
    "print(max(q))    #maximum number"
   ]
  },
  {
   "cell_type": "code",
   "execution_count": 19,
   "id": "595ddbff",
   "metadata": {},
   "outputs": [
    {
     "name": "stdout",
     "output_type": "stream",
     "text": [
      "5\n"
     ]
    }
   ],
   "source": [
    "print(min(q))    #minimum number"
   ]
  },
  {
   "cell_type": "code",
   "execution_count": 22,
   "id": "b426c0ad",
   "metadata": {},
   "outputs": [
    {
     "name": "stdout",
     "output_type": "stream",
     "text": [
      "<class 'list'>\n"
     ]
    }
   ],
   "source": [
    "print(type(q))"
   ]
  },
  {
   "cell_type": "code",
   "execution_count": null,
   "id": "535d40ac",
   "metadata": {},
   "outputs": [],
   "source": [
    "#### LIST METHOD == FUNCTION WRITTEN IN CLASS CALLED METHOD ."
   ]
  },
  {
   "cell_type": "code",
   "execution_count": 25,
   "id": "2aa6ce3e",
   "metadata": {},
   "outputs": [
    {
     "name": "stdout",
     "output_type": "stream",
     "text": [
      "[1, 2, 3, 4, 5, 6, 8]\n"
     ]
    }
   ],
   "source": [
    "####  APPEND\n",
    "r=[1,2,3,4,5,6]   \n",
    "r.append(8)             #calling to method using object(r) in the class of list == to add values\n",
    "print(r)"
   ]
  },
  {
   "cell_type": "code",
   "execution_count": 26,
   "id": "274ace65",
   "metadata": {},
   "outputs": [
    {
     "name": "stdout",
     "output_type": "stream",
     "text": [
      "[1, 2, 3, 4, 5, 6, 7, 8]\n"
     ]
    }
   ],
   "source": [
    "####  INSERT\n",
    "       #(index,value to be inserted)\n",
    "r.insert(6,7)  \n",
    "print(r)"
   ]
  },
  {
   "cell_type": "code",
   "execution_count": 29,
   "id": "fe6c8951",
   "metadata": {},
   "outputs": [
    {
     "name": "stdout",
     "output_type": "stream",
     "text": [
      "3\n"
     ]
    }
   ],
   "source": [
    "####  INDEX\n",
    "            #(value to find index)\n",
    "print(r.index(4))       "
   ]
  },
  {
   "cell_type": "code",
   "execution_count": 34,
   "id": "3add1544",
   "metadata": {},
   "outputs": [
    {
     "name": "stdout",
     "output_type": "stream",
     "text": [
      "[1, 2, 3, 4, 5, 6, 7, 8, 10, 10, 6, 10, 6, 10, 6]\n",
      "4\n"
     ]
    }
   ],
   "source": [
    "####  count\n",
    "r.append(10)\n",
    "r.append(6)\n",
    "print(r)\n",
    "\n",
    "print(r.count(6))"
   ]
  },
  {
   "cell_type": "code",
   "execution_count": 42,
   "id": "febbf0d1",
   "metadata": {},
   "outputs": [
    {
     "name": "stdout",
     "output_type": "stream",
     "text": [
      "[1, 3, 4, 7, 8, 10, 10]\n"
     ]
    }
   ],
   "source": [
    "#### remove\n",
    "r.remove(10)\n",
    "print(r)"
   ]
  },
  {
   "cell_type": "code",
   "execution_count": 45,
   "id": "6ee92609",
   "metadata": {},
   "outputs": [
    {
     "name": "stdout",
     "output_type": "stream",
     "text": [
      "[10, 10, 8, 7, 4, 3, 1]\n"
     ]
    }
   ],
   "source": [
    "#### reverse\n",
    "r.reverse()\n",
    "print(r)"
   ]
  },
  {
   "cell_type": "code",
   "execution_count": 1,
   "id": "5b15ed3d",
   "metadata": {},
   "outputs": [],
   "source": [
    "####WAP TO ENTER 5 ELEMENT FROM USER ,APPEND IN A LIST AND PRINT THEN ON SEPERATE LINE"
   ]
  },
  {
   "cell_type": "code",
   "execution_count": 16,
   "id": "3e16587e",
   "metadata": {},
   "outputs": [
    {
     "name": "stdout",
     "output_type": "stream",
     "text": [
      "enter a no.1\n",
      "enter a no.5\n",
      "enter a no.44\n",
      "enter a no.22\n",
      "enter a no.3\n",
      "value is\n",
      "1\n",
      "5\n",
      "44\n",
      "22\n",
      "3\n",
      "<class 'list'>\n"
     ]
    }
   ],
   "source": [
    "n=0\n",
    "p=[]\n",
    "while n<5:\n",
    "    x=int(input(\"enter a no.\"))\n",
    "    p.append(x)\n",
    "    n+=1\n",
    "print(\"value is\")\n",
    "\n",
    "n=0\n",
    "while n<5:\n",
    "    print(p[n])    ##n=index value\n",
    "    n+=1\n",
    "print(type(p))"
   ]
  },
  {
   "cell_type": "code",
   "execution_count": null,
   "id": "81c71de0",
   "metadata": {},
   "outputs": [],
   "source": []
  },
  {
   "cell_type": "code",
   "execution_count": 23,
   "id": "acb5ab7b",
   "metadata": {},
   "outputs": [
    {
     "name": "stdout",
     "output_type": "stream",
     "text": [
      "ENTER NUMBER1\n",
      "ENTER NUMBER2\n",
      "ENTER NUMBER3\n",
      "ENTER NUMBER4\n",
      "ENTER NUMBER5\n",
      "sum  15\n",
      "avg  3.0\n"
     ]
    }
   ],
   "source": [
    "x=1\n",
    "i=[]\n",
    "while x<6:\n",
    "    p=int(input(\"ENTER NUMBER\"))\n",
    "    i.append(p)\n",
    "    x+=1\n",
    "    \n",
    "print(\"sum \", sum(i))\n",
    "print(\"avg \",(sum(i)/len(i)))"
   ]
  }
 ],
 "metadata": {
  "kernelspec": {
   "display_name": "Python 3 (ipykernel)",
   "language": "python",
   "name": "python3"
  },
  "language_info": {
   "codemirror_mode": {
    "name": "ipython",
    "version": 3
   },
   "file_extension": ".py",
   "mimetype": "text/x-python",
   "name": "python",
   "nbconvert_exporter": "python",
   "pygments_lexer": "ipython3",
   "version": "3.9.0"
  }
 },
 "nbformat": 4,
 "nbformat_minor": 5
}
